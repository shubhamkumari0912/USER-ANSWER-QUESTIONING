{
  "nbformat": 4,
  "nbformat_minor": 0,
  "metadata": {
    "colab": {
      "provenance": []
    },
    "kernelspec": {
      "name": "python3",
      "display_name": "Python 3"
    },
    "language_info": {
      "name": "python"
    }
  },
  "cells": [
    {
      "cell_type": "code",
      "source": [
        "import re\n",
        "\n",
        "# Define a dictionary of common questions and answers\n",
        "faq = {\n",
        "    \"what programs do you offer\": \"We offer a variety of programs including undergraduate, graduate, and certificate courses in multiple fields such as science, arts, engineering, and business.\",\n",
        "    \"how can i apply for admission\": \"You can apply through our online application portal. Visit our admissions page for more details.\",\n",
        "    \"what are the admission requirements\": \"Admission requirements vary by program but generally include transcripts, standardized test scores, and letters of recommendation.\",\n",
        "    \"what is the application deadline\": \"Our application deadlines vary depending on the program and intake season. Check the admissions page for the latest dates.\",\n",
        "    \"how much is the tuition fee\": \"Tuition fees depend on the program and residency status. You can find detailed fee structures on our website.\",\n",
        "    \"do you offer financial aid or scholarships\": \"Yes, we offer various scholarships and financial aid options. Visit our financial aid page for more information.\",\n",
        "    \"how can i apply for scholarships\": \"Scholarship applications are available on the financial aid section of our website. Deadlines and eligibility vary by scholarship.\",\n",
        "    \"what is the campus like\": \"Our campus includes modern facilities, libraries, labs, and recreational areas. You can take a virtual tour on our website.\",\n",
        "    \"do you offer online courses\": \"Yes, we offer a range of online courses and hybrid programs. Check our course catalog for online offerings.\",\n",
        "    \"how do i access my course materials online\": \"Course materials are available on the student portal under the 'Courses' section once you're enrolled.\",\n",
        "    \"how do i register for classes\": \"Class registration is done through the student portal. You can find the registration schedule on the academic calendar.\",\n",
        "    \"what is the grading system\": \"Our grading system includes letter grades (A, B, C, etc.) with corresponding GPA points. You can review our grading policy on the website.\",\n",
        "    \"how can i contact my professor\": \"You can contact your professor through email, office hours, or via the course portal messaging system.\",\n",
        "    \"where can i find academic support\": \"Academic support services are available, including tutoring, writing assistance, and advising. Visit the academic support page for details.\",\n",
        "    \"how do i access the library resources\": \"Library resources are accessible online through the library portal or in person during library hours.\",\n",
        "    \"do you have career services\": \"Yes, we offer career counseling, resume workshops, and internship opportunities. Visit the career services page for more information.\",\n",
        "    \"how do i request a transcript\": \"You can request transcripts through the student portal under 'Student Records'. Processing fees may apply.\",\n",
        "    \"can i transfer credits from another institution\": \"Yes, credit transfer is possible based on our transfer policies. Contact admissions for evaluation details.\",\n",
        "    \"what is the attendance policy\": \"Attendance policies vary by program. Generally, regular attendance is required to maintain good standing.\",\n",
        "    \"how can i access technical support\": \"Technical support is available through our helpdesk via email or phone. Check the IT support page for contact information.\"\n",
        "}\n",
        "\n",
        "# Function to clean input by removing symbols and converting to lowercase\n",
        "def clean_text(text):\n",
        "    # Removing all non-alphabetic characters using regex and convert to lowercase\n",
        "    return re.sub(r'[^a-zA-Z\\s]', '', text).lower()\n",
        "\n",
        "# Function to answer questions\n",
        "def answer_question(question):\n",
        "    # Clean the question for consistent matching\n",
        "    cleaned_question = clean_text(question)\n",
        "\n",
        "    # Check if the cleaned question exists in the cleaned FAQ dictionary\n",
        "    if cleaned_question in faq:\n",
        "        return faq[cleaned_question]\n",
        "    else:\n",
        "        return \"I'm sorry, I don't have an answer for this question.\"\n",
        "\n",
        "# Loop to allow continuous questioning\n",
        "while True:\n",
        "    user_question = input(\"Ask a question (or type 'exit' to quit): \")\n",
        "\n",
        "    if user_question.lower() == \"exit\":\n",
        "        print(\"Goodbye!!!\")\n",
        "        break\n",
        "\n",
        "    # Get the answer and print it\n",
        "    answer = answer_question(user_question)\n",
        "    print(answer)\n"
      ],
      "metadata": {
        "id": "z4Mgw-MMKwIm"
      },
      "execution_count": null,
      "outputs": []
    },
    {
      "cell_type": "code",
      "source": [],
      "metadata": {
        "id": "I9LTRlwOLX76"
      },
      "execution_count": null,
      "outputs": []
    }
  ]
}